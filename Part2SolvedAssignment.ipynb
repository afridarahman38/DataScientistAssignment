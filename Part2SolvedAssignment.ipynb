{
  "nbformat": 4,
  "nbformat_minor": 0,
  "metadata": {
    "colab": {
      "provenance": [],
      "authorship_tag": "ABX9TyODGunoT2UCyK8o4D/ZiqJ2",
      "include_colab_link": true
    },
    "kernelspec": {
      "name": "python3",
      "display_name": "Python 3"
    },
    "language_info": {
      "name": "python"
    }
  },
  "cells": [
    {
      "cell_type": "markdown",
      "metadata": {
        "id": "view-in-github",
        "colab_type": "text"
      },
      "source": [
        "<a href=\"https://colab.research.google.com/github/afridarahman38/DataScientistAssignment/blob/main/Part2SolvedAssignment.ipynb\" target=\"_parent\"><img src=\"https://colab.research.google.com/assets/colab-badge.svg\" alt=\"Open In Colab\"/></a>"
      ]
    },
    {
      "cell_type": "markdown",
      "source": [
        "**importing sheet1 excel file**"
      ],
      "metadata": {
        "id": "d7_euUI6xBxe"
      }
    },
    {
      "cell_type": "code",
      "source": [
        "from google.colab import files\n",
        "uploaded = files.upload()"
      ],
      "metadata": {
        "colab": {
          "base_uri": "https://localhost:8080/",
          "height": 74
        },
        "id": "v3TZBCIywmfM",
        "outputId": "2b321fd6-7c6e-4536-c6be-d149c4008f83"
      },
      "execution_count": null,
      "outputs": [
        {
          "output_type": "display_data",
          "data": {
            "text/plain": [
              "<IPython.core.display.HTML object>"
            ],
            "text/html": [
              "\n",
              "     <input type=\"file\" id=\"files-150f8eee-3c66-46ba-b58f-e05734954e54\" name=\"files[]\" multiple disabled\n",
              "        style=\"border:none\" />\n",
              "     <output id=\"result-150f8eee-3c66-46ba-b58f-e05734954e54\">\n",
              "      Upload widget is only available when the cell has been executed in the\n",
              "      current browser session. Please rerun this cell to enable.\n",
              "      </output>\n",
              "      <script>// Copyright 2017 Google LLC\n",
              "//\n",
              "// Licensed under the Apache License, Version 2.0 (the \"License\");\n",
              "// you may not use this file except in compliance with the License.\n",
              "// You may obtain a copy of the License at\n",
              "//\n",
              "//      http://www.apache.org/licenses/LICENSE-2.0\n",
              "//\n",
              "// Unless required by applicable law or agreed to in writing, software\n",
              "// distributed under the License is distributed on an \"AS IS\" BASIS,\n",
              "// WITHOUT WARRANTIES OR CONDITIONS OF ANY KIND, either express or implied.\n",
              "// See the License for the specific language governing permissions and\n",
              "// limitations under the License.\n",
              "\n",
              "/**\n",
              " * @fileoverview Helpers for google.colab Python module.\n",
              " */\n",
              "(function(scope) {\n",
              "function span(text, styleAttributes = {}) {\n",
              "  const element = document.createElement('span');\n",
              "  element.textContent = text;\n",
              "  for (const key of Object.keys(styleAttributes)) {\n",
              "    element.style[key] = styleAttributes[key];\n",
              "  }\n",
              "  return element;\n",
              "}\n",
              "\n",
              "// Max number of bytes which will be uploaded at a time.\n",
              "const MAX_PAYLOAD_SIZE = 100 * 1024;\n",
              "\n",
              "function _uploadFiles(inputId, outputId) {\n",
              "  const steps = uploadFilesStep(inputId, outputId);\n",
              "  const outputElement = document.getElementById(outputId);\n",
              "  // Cache steps on the outputElement to make it available for the next call\n",
              "  // to uploadFilesContinue from Python.\n",
              "  outputElement.steps = steps;\n",
              "\n",
              "  return _uploadFilesContinue(outputId);\n",
              "}\n",
              "\n",
              "// This is roughly an async generator (not supported in the browser yet),\n",
              "// where there are multiple asynchronous steps and the Python side is going\n",
              "// to poll for completion of each step.\n",
              "// This uses a Promise to block the python side on completion of each step,\n",
              "// then passes the result of the previous step as the input to the next step.\n",
              "function _uploadFilesContinue(outputId) {\n",
              "  const outputElement = document.getElementById(outputId);\n",
              "  const steps = outputElement.steps;\n",
              "\n",
              "  const next = steps.next(outputElement.lastPromiseValue);\n",
              "  return Promise.resolve(next.value.promise).then((value) => {\n",
              "    // Cache the last promise value to make it available to the next\n",
              "    // step of the generator.\n",
              "    outputElement.lastPromiseValue = value;\n",
              "    return next.value.response;\n",
              "  });\n",
              "}\n",
              "\n",
              "/**\n",
              " * Generator function which is called between each async step of the upload\n",
              " * process.\n",
              " * @param {string} inputId Element ID of the input file picker element.\n",
              " * @param {string} outputId Element ID of the output display.\n",
              " * @return {!Iterable<!Object>} Iterable of next steps.\n",
              " */\n",
              "function* uploadFilesStep(inputId, outputId) {\n",
              "  const inputElement = document.getElementById(inputId);\n",
              "  inputElement.disabled = false;\n",
              "\n",
              "  const outputElement = document.getElementById(outputId);\n",
              "  outputElement.innerHTML = '';\n",
              "\n",
              "  const pickedPromise = new Promise((resolve) => {\n",
              "    inputElement.addEventListener('change', (e) => {\n",
              "      resolve(e.target.files);\n",
              "    });\n",
              "  });\n",
              "\n",
              "  const cancel = document.createElement('button');\n",
              "  inputElement.parentElement.appendChild(cancel);\n",
              "  cancel.textContent = 'Cancel upload';\n",
              "  const cancelPromise = new Promise((resolve) => {\n",
              "    cancel.onclick = () => {\n",
              "      resolve(null);\n",
              "    };\n",
              "  });\n",
              "\n",
              "  // Wait for the user to pick the files.\n",
              "  const files = yield {\n",
              "    promise: Promise.race([pickedPromise, cancelPromise]),\n",
              "    response: {\n",
              "      action: 'starting',\n",
              "    }\n",
              "  };\n",
              "\n",
              "  cancel.remove();\n",
              "\n",
              "  // Disable the input element since further picks are not allowed.\n",
              "  inputElement.disabled = true;\n",
              "\n",
              "  if (!files) {\n",
              "    return {\n",
              "      response: {\n",
              "        action: 'complete',\n",
              "      }\n",
              "    };\n",
              "  }\n",
              "\n",
              "  for (const file of files) {\n",
              "    const li = document.createElement('li');\n",
              "    li.append(span(file.name, {fontWeight: 'bold'}));\n",
              "    li.append(span(\n",
              "        `(${file.type || 'n/a'}) - ${file.size} bytes, ` +\n",
              "        `last modified: ${\n",
              "            file.lastModifiedDate ? file.lastModifiedDate.toLocaleDateString() :\n",
              "                                    'n/a'} - `));\n",
              "    const percent = span('0% done');\n",
              "    li.appendChild(percent);\n",
              "\n",
              "    outputElement.appendChild(li);\n",
              "\n",
              "    const fileDataPromise = new Promise((resolve) => {\n",
              "      const reader = new FileReader();\n",
              "      reader.onload = (e) => {\n",
              "        resolve(e.target.result);\n",
              "      };\n",
              "      reader.readAsArrayBuffer(file);\n",
              "    });\n",
              "    // Wait for the data to be ready.\n",
              "    let fileData = yield {\n",
              "      promise: fileDataPromise,\n",
              "      response: {\n",
              "        action: 'continue',\n",
              "      }\n",
              "    };\n",
              "\n",
              "    // Use a chunked sending to avoid message size limits. See b/62115660.\n",
              "    let position = 0;\n",
              "    do {\n",
              "      const length = Math.min(fileData.byteLength - position, MAX_PAYLOAD_SIZE);\n",
              "      const chunk = new Uint8Array(fileData, position, length);\n",
              "      position += length;\n",
              "\n",
              "      const base64 = btoa(String.fromCharCode.apply(null, chunk));\n",
              "      yield {\n",
              "        response: {\n",
              "          action: 'append',\n",
              "          file: file.name,\n",
              "          data: base64,\n",
              "        },\n",
              "      };\n",
              "\n",
              "      let percentDone = fileData.byteLength === 0 ?\n",
              "          100 :\n",
              "          Math.round((position / fileData.byteLength) * 100);\n",
              "      percent.textContent = `${percentDone}% done`;\n",
              "\n",
              "    } while (position < fileData.byteLength);\n",
              "  }\n",
              "\n",
              "  // All done.\n",
              "  yield {\n",
              "    response: {\n",
              "      action: 'complete',\n",
              "    }\n",
              "  };\n",
              "}\n",
              "\n",
              "scope.google = scope.google || {};\n",
              "scope.google.colab = scope.google.colab || {};\n",
              "scope.google.colab._files = {\n",
              "  _uploadFiles,\n",
              "  _uploadFilesContinue,\n",
              "};\n",
              "})(self);\n",
              "</script> "
            ]
          },
          "metadata": {}
        },
        {
          "output_type": "stream",
          "name": "stdout",
          "text": [
            "Saving Sheet1.xlsx to Sheet1.xlsx\n"
          ]
        }
      ]
    },
    {
      "cell_type": "markdown",
      "source": [
        "**2 no solution of Assignment Part 2**"
      ],
      "metadata": {
        "id": "SX2cCx3yg6NJ"
      }
    },
    {
      "cell_type": "code",
      "source": [
        "import pandas as pd"
      ],
      "metadata": {
        "id": "gWdfghbIa1kK"
      },
      "execution_count": null,
      "outputs": []
    },
    {
      "cell_type": "code",
      "source": [
        "df = pd.read_excel('/content/Sheet1.xlsx', sheet_name='Sheet1') #read excel file\n",
        "\n",
        "df.to_csv('/content/Sheet1.csv', index=False) #excel to csv"
      ],
      "metadata": {
        "id": "TGx_YiBkcTjr"
      },
      "execution_count": null,
      "outputs": []
    },
    {
      "cell_type": "markdown",
      "source": [
        "**3 no solution of Assignment Part 2**"
      ],
      "metadata": {
        "id": "aszSWVvygzpe"
      }
    },
    {
      "cell_type": "code",
      "source": [
        "import pandas as pd"
      ],
      "metadata": {
        "id": "ebJdBMCddULw"
      },
      "execution_count": null,
      "outputs": []
    },
    {
      "cell_type": "code",
      "source": [
        "df = pd.read_csv('/content/Sheet1.csv') # load csv file"
      ],
      "metadata": {
        "id": "0f6jI43jdeaY"
      },
      "execution_count": null,
      "outputs": []
    },
    {
      "cell_type": "code",
      "source": [
        "print(df)"
      ],
      "metadata": {
        "colab": {
          "base_uri": "https://localhost:8080/"
        },
        "id": "dmr-R0Uife-9",
        "outputId": "8b5b3a75-306a-4d3e-a122-e42676b9adba"
      },
      "execution_count": null,
      "outputs": [
        {
          "output_type": "stream",
          "name": "stdout",
          "text": [
            "         ID Customer Name    Division Gender MaritalStatus  Age  Income\n",
            "0   BU79786     Christine       Dhaka      F       Married   37   56274\n",
            "1   QZ44356         Susan    Rajshahi      F        Single   50       0\n",
            "2   AI49188      Margaret      Khulna      F       Married   29   48767\n",
            "3   WW63253         David    Barishal      M       Married   41       0\n",
            "4   HB64268         Peter  Mymensingh      M        Single   24   43836\n",
            "5   OC83172        Judith      Sylhet      F       Married   43   62902\n",
            "6   XZ87318      Jennifer      Khulna      F       Married   25   55350\n",
            "7   CF85061       Michael    Barishal      M        Single   44       0\n",
            "8   DY87989          John  Mymensingh      M      Divorced   27   14072\n",
            "9   BQ94931          Mary      Sylhet      F       Married   32   28812\n",
            "10  SX51350       Stephen     Rangpur      M        Single   37       0\n",
            "11  VQ65197     Elizabeth  Chattogram      F       Married   34       0\n",
            "12  DP39365          Mark       Dhaka      M       Married   45   77026\n",
            "13  SJ95423          Paul    Rajshahi      M       Married   46   99845\n",
            "14  IL66569        Robert      Khulna      M        Single   38   83689\n",
            "15  BW63560      Patricia    Barishal      F       Married   47   24599\n",
            "16  FV94802   Christopher  Mymensingh      M       Married   48   25049\n",
            "17  OE15005         Kevin      Sylhet      M       Married   40   28855\n",
            "18  WC83389       Anthony     Rangpur      M       Married   35   51148\n",
            "19  FL50705         Linda  Chattogram      F       Married   43   66140\n",
            "20  ZK25313       Richard       Dhaka      M        Single   40   57749\n",
            "21  SV62436       Barbara    Rajshahi      F      Divorced   49   13789\n",
            "22  YH23384           Ian  Mymensingh      M      Divorced   40   14072\n",
            "23  TZ98966       Lynette      Sylhet      F        Single   39       0\n",
            "24  HM55802         Robyn     Rangpur      F       Married   42   17870\n",
            "25  FS42516         Craig  Chattogram      M       Married   47   97541\n",
            "26  US89481          Anne       Dhaka      F        Single   46       0\n",
            "27  HO30839         Karen    Rajshahi      F       Married   36   10511\n",
            "28  GE62437         Helen      Khulna      F        Single   39   86584\n",
            "29  EJ77678         Diane     Rangpur      F       Married   40   75690\n",
            "30  SV85652       William  Chattogram      M       Married   28   23158\n",
            "31  UL64533       Gregory       Dhaka      M       Married   47   65999\n",
            "32  PF41800         Wayne    Rajshahi      M       Married   34       0\n",
            "33  AO98601        Andrew      Khulna      M       Married   28   54500\n",
            "34  SK67821        Sandra    Barishal      F       Married   50   37260\n",
            "35  YV55495         Wendy  Mymensingh      F       Married   42   68987\n",
            "36  KY38074         Grant      Sylhet      M       Married   49   42305\n",
            "37  DM79012         Janet     Rangpur      F       Married   38   65706\n",
            "38  CM61827         James  Chattogram      M        Single   32       0\n",
            "39  WC35801         Bruce      Khulna      M      Divorced   44   53243\n",
            "40  QG25316       Heather     Rangpur      F       Married   40       0\n",
            "41  MB98372        Pamela  Chattogram      F        Single   49   50071\n",
            "42  IL19217         Carol       Dhaka      F       Married   29   60021\n",
            "43  SR38658         Brian    Rajshahi      M       Married   31   43244\n",
            "44  DH41343        Steven  Mymensingh      M       Married   50   92834\n",
            "45  HG65722        Janice      Sylhet      F       Married   33   10105\n",
            "46  BU27331        Philip     Rangpur      M        Single   39       0\n",
            "47  XM45289         Julie  Chattogram      F        Single   25   23218\n",
            "48  KP34198       Suzanne      Khulna      F       Married   47       0\n",
            "49  WE95729      Lorraine      Sylhet      F       Married   31       0\n"
          ]
        }
      ]
    },
    {
      "cell_type": "markdown",
      "source": [
        "**4 no solution of Assignment Part 2**"
      ],
      "metadata": {
        "id": "Yoi1jyaQgc4Q"
      }
    },
    {
      "cell_type": "code",
      "source": [
        "df = df.drop('ID', axis=1) #get rid of the column ID\n",
        "\n",
        "print(df)"
      ],
      "metadata": {
        "colab": {
          "base_uri": "https://localhost:8080/"
        },
        "id": "F3PYSXfpfzqO",
        "outputId": "88c720bf-c6b0-4d2d-fa9b-5799d4b14fcb"
      },
      "execution_count": null,
      "outputs": [
        {
          "output_type": "stream",
          "name": "stdout",
          "text": [
            "   Customer Name    Division Gender MaritalStatus  Age  Income\n",
            "0      Christine       Dhaka      F       Married   37   56274\n",
            "1          Susan    Rajshahi      F        Single   50       0\n",
            "2       Margaret      Khulna      F       Married   29   48767\n",
            "3          David    Barishal      M       Married   41       0\n",
            "4          Peter  Mymensingh      M        Single   24   43836\n",
            "5         Judith      Sylhet      F       Married   43   62902\n",
            "6       Jennifer      Khulna      F       Married   25   55350\n",
            "7        Michael    Barishal      M        Single   44       0\n",
            "8           John  Mymensingh      M      Divorced   27   14072\n",
            "9           Mary      Sylhet      F       Married   32   28812\n",
            "10       Stephen     Rangpur      M        Single   37       0\n",
            "11     Elizabeth  Chattogram      F       Married   34       0\n",
            "12          Mark       Dhaka      M       Married   45   77026\n",
            "13          Paul    Rajshahi      M       Married   46   99845\n",
            "14        Robert      Khulna      M        Single   38   83689\n",
            "15      Patricia    Barishal      F       Married   47   24599\n",
            "16   Christopher  Mymensingh      M       Married   48   25049\n",
            "17         Kevin      Sylhet      M       Married   40   28855\n",
            "18       Anthony     Rangpur      M       Married   35   51148\n",
            "19         Linda  Chattogram      F       Married   43   66140\n",
            "20       Richard       Dhaka      M        Single   40   57749\n",
            "21       Barbara    Rajshahi      F      Divorced   49   13789\n",
            "22           Ian  Mymensingh      M      Divorced   40   14072\n",
            "23       Lynette      Sylhet      F        Single   39       0\n",
            "24         Robyn     Rangpur      F       Married   42   17870\n",
            "25         Craig  Chattogram      M       Married   47   97541\n",
            "26          Anne       Dhaka      F        Single   46       0\n",
            "27         Karen    Rajshahi      F       Married   36   10511\n",
            "28         Helen      Khulna      F        Single   39   86584\n",
            "29         Diane     Rangpur      F       Married   40   75690\n",
            "30       William  Chattogram      M       Married   28   23158\n",
            "31       Gregory       Dhaka      M       Married   47   65999\n",
            "32         Wayne    Rajshahi      M       Married   34       0\n",
            "33        Andrew      Khulna      M       Married   28   54500\n",
            "34        Sandra    Barishal      F       Married   50   37260\n",
            "35         Wendy  Mymensingh      F       Married   42   68987\n",
            "36         Grant      Sylhet      M       Married   49   42305\n",
            "37         Janet     Rangpur      F       Married   38   65706\n",
            "38         James  Chattogram      M        Single   32       0\n",
            "39         Bruce      Khulna      M      Divorced   44   53243\n",
            "40       Heather     Rangpur      F       Married   40       0\n",
            "41        Pamela  Chattogram      F        Single   49   50071\n",
            "42         Carol       Dhaka      F       Married   29   60021\n",
            "43         Brian    Rajshahi      M       Married   31   43244\n",
            "44        Steven  Mymensingh      M       Married   50   92834\n",
            "45        Janice      Sylhet      F       Married   33   10105\n",
            "46        Philip     Rangpur      M        Single   39       0\n",
            "47         Julie  Chattogram      F        Single   25   23218\n",
            "48       Suzanne      Khulna      F       Married   47       0\n",
            "49      Lorraine      Sylhet      F       Married   31       0\n"
          ]
        }
      ]
    },
    {
      "cell_type": "markdown",
      "source": [
        "**5 no solution of Assignment Part 2**\n",
        "\n"
      ],
      "metadata": {
        "id": "uelgL9UBgLrn"
      }
    },
    {
      "cell_type": "code",
      "source": [
        "from sklearn.preprocessing import LabelEncoder\n",
        "\n",
        "encoder = LabelEncoder() #creating instance in LabelEncoder\n",
        "\n",
        "df['Division'] = encoder.fit_transform(df['Division']) #encode the column\n",
        "\n",
        "print(df)"
      ],
      "metadata": {
        "id": "F1BIvI7cvkaU",
        "colab": {
          "base_uri": "https://localhost:8080/"
        },
        "outputId": "73423319-113b-4147-a4a7-bf7cb78c541a"
      },
      "execution_count": null,
      "outputs": [
        {
          "output_type": "stream",
          "name": "stdout",
          "text": [
            "   Customer Name  Division Gender MaritalStatus  Age  Income\n",
            "0      Christine         2      F       Married   37   56274\n",
            "1          Susan         5      F        Single   50       0\n",
            "2       Margaret         3      F       Married   29   48767\n",
            "3          David         0      M       Married   41       0\n",
            "4          Peter         4      M        Single   24   43836\n",
            "5         Judith         7      F       Married   43   62902\n",
            "6       Jennifer         3      F       Married   25   55350\n",
            "7        Michael         0      M        Single   44       0\n",
            "8           John         4      M      Divorced   27   14072\n",
            "9           Mary         7      F       Married   32   28812\n",
            "10       Stephen         6      M        Single   37       0\n",
            "11     Elizabeth         1      F       Married   34       0\n",
            "12          Mark         2      M       Married   45   77026\n",
            "13          Paul         5      M       Married   46   99845\n",
            "14        Robert         3      M        Single   38   83689\n",
            "15      Patricia         0      F       Married   47   24599\n",
            "16   Christopher         4      M       Married   48   25049\n",
            "17         Kevin         7      M       Married   40   28855\n",
            "18       Anthony         6      M       Married   35   51148\n",
            "19         Linda         1      F       Married   43   66140\n",
            "20       Richard         2      M        Single   40   57749\n",
            "21       Barbara         5      F      Divorced   49   13789\n",
            "22           Ian         4      M      Divorced   40   14072\n",
            "23       Lynette         7      F        Single   39       0\n",
            "24         Robyn         6      F       Married   42   17870\n",
            "25         Craig         1      M       Married   47   97541\n",
            "26          Anne         2      F        Single   46       0\n",
            "27         Karen         5      F       Married   36   10511\n",
            "28         Helen         3      F        Single   39   86584\n",
            "29         Diane         6      F       Married   40   75690\n",
            "30       William         1      M       Married   28   23158\n",
            "31       Gregory         2      M       Married   47   65999\n",
            "32         Wayne         5      M       Married   34       0\n",
            "33        Andrew         3      M       Married   28   54500\n",
            "34        Sandra         0      F       Married   50   37260\n",
            "35         Wendy         4      F       Married   42   68987\n",
            "36         Grant         7      M       Married   49   42305\n",
            "37         Janet         6      F       Married   38   65706\n",
            "38         James         1      M        Single   32       0\n",
            "39         Bruce         3      M      Divorced   44   53243\n",
            "40       Heather         6      F       Married   40       0\n",
            "41        Pamela         1      F        Single   49   50071\n",
            "42         Carol         2      F       Married   29   60021\n",
            "43         Brian         5      M       Married   31   43244\n",
            "44        Steven         4      M       Married   50   92834\n",
            "45        Janice         7      F       Married   33   10105\n",
            "46        Philip         6      M        Single   39       0\n",
            "47         Julie         1      F        Single   25   23218\n",
            "48       Suzanne         3      F       Married   47       0\n",
            "49      Lorraine         7      F       Married   31       0\n"
          ]
        }
      ]
    },
    {
      "cell_type": "code",
      "source": [
        "from sklearn.preprocessing import LabelEncoder\n",
        "\n",
        "encoder = LabelEncoder() #creating instance in LabelEncoder\n",
        "\n",
        "df['Gender'] = encoder.fit_transform(df['Gender']) #encode the column\n",
        "\n",
        "print(df)"
      ],
      "metadata": {
        "colab": {
          "base_uri": "https://localhost:8080/"
        },
        "id": "2-qLqEeH5ClU",
        "outputId": "56c622c0-16f7-4a9c-8fe7-bbba989fcbb9"
      },
      "execution_count": null,
      "outputs": [
        {
          "output_type": "stream",
          "name": "stdout",
          "text": [
            "   Customer Name  Division  Gender MaritalStatus  Age  Income\n",
            "0      Christine         2       0       Married   37   56274\n",
            "1          Susan         5       0        Single   50       0\n",
            "2       Margaret         3       0       Married   29   48767\n",
            "3          David         0       1       Married   41       0\n",
            "4          Peter         4       1        Single   24   43836\n",
            "5         Judith         7       0       Married   43   62902\n",
            "6       Jennifer         3       0       Married   25   55350\n",
            "7        Michael         0       1        Single   44       0\n",
            "8           John         4       1      Divorced   27   14072\n",
            "9           Mary         7       0       Married   32   28812\n",
            "10       Stephen         6       1        Single   37       0\n",
            "11     Elizabeth         1       0       Married   34       0\n",
            "12          Mark         2       1       Married   45   77026\n",
            "13          Paul         5       1       Married   46   99845\n",
            "14        Robert         3       1        Single   38   83689\n",
            "15      Patricia         0       0       Married   47   24599\n",
            "16   Christopher         4       1       Married   48   25049\n",
            "17         Kevin         7       1       Married   40   28855\n",
            "18       Anthony         6       1       Married   35   51148\n",
            "19         Linda         1       0       Married   43   66140\n",
            "20       Richard         2       1        Single   40   57749\n",
            "21       Barbara         5       0      Divorced   49   13789\n",
            "22           Ian         4       1      Divorced   40   14072\n",
            "23       Lynette         7       0        Single   39       0\n",
            "24         Robyn         6       0       Married   42   17870\n",
            "25         Craig         1       1       Married   47   97541\n",
            "26          Anne         2       0        Single   46       0\n",
            "27         Karen         5       0       Married   36   10511\n",
            "28         Helen         3       0        Single   39   86584\n",
            "29         Diane         6       0       Married   40   75690\n",
            "30       William         1       1       Married   28   23158\n",
            "31       Gregory         2       1       Married   47   65999\n",
            "32         Wayne         5       1       Married   34       0\n",
            "33        Andrew         3       1       Married   28   54500\n",
            "34        Sandra         0       0       Married   50   37260\n",
            "35         Wendy         4       0       Married   42   68987\n",
            "36         Grant         7       1       Married   49   42305\n",
            "37         Janet         6       0       Married   38   65706\n",
            "38         James         1       1        Single   32       0\n",
            "39         Bruce         3       1      Divorced   44   53243\n",
            "40       Heather         6       0       Married   40       0\n",
            "41        Pamela         1       0        Single   49   50071\n",
            "42         Carol         2       0       Married   29   60021\n",
            "43         Brian         5       1       Married   31   43244\n",
            "44        Steven         4       1       Married   50   92834\n",
            "45        Janice         7       0       Married   33   10105\n",
            "46        Philip         6       1        Single   39       0\n",
            "47         Julie         1       0        Single   25   23218\n",
            "48       Suzanne         3       0       Married   47       0\n",
            "49      Lorraine         7       0       Married   31       0\n"
          ]
        }
      ]
    },
    {
      "cell_type": "code",
      "source": [
        "from sklearn.preprocessing import LabelEncoder\n",
        "\n",
        "encoder = LabelEncoder() #creating instance in LabelEncoder\n",
        "\n",
        "df['Division'] = encoder.fit_transform(df['Division']) #encode the column\n",
        "df['Gender'] = encoder.fit_transform(df['Gender']) #encode the column\n",
        "\n",
        "print(df)"
      ],
      "metadata": {
        "colab": {
          "base_uri": "https://localhost:8080/"
        },
        "id": "DyGZ4xiS5NxP",
        "outputId": "4b6e0854-b552-4ebf-c31d-00ddc64633cb"
      },
      "execution_count": null,
      "outputs": [
        {
          "output_type": "stream",
          "name": "stdout",
          "text": [
            "   Customer Name  Division  Gender MaritalStatus  Age  Income\n",
            "0      Christine         2       0       Married   37   56274\n",
            "1          Susan         5       0        Single   50       0\n",
            "2       Margaret         3       0       Married   29   48767\n",
            "3          David         0       1       Married   41       0\n",
            "4          Peter         4       1        Single   24   43836\n",
            "5         Judith         7       0       Married   43   62902\n",
            "6       Jennifer         3       0       Married   25   55350\n",
            "7        Michael         0       1        Single   44       0\n",
            "8           John         4       1      Divorced   27   14072\n",
            "9           Mary         7       0       Married   32   28812\n",
            "10       Stephen         6       1        Single   37       0\n",
            "11     Elizabeth         1       0       Married   34       0\n",
            "12          Mark         2       1       Married   45   77026\n",
            "13          Paul         5       1       Married   46   99845\n",
            "14        Robert         3       1        Single   38   83689\n",
            "15      Patricia         0       0       Married   47   24599\n",
            "16   Christopher         4       1       Married   48   25049\n",
            "17         Kevin         7       1       Married   40   28855\n",
            "18       Anthony         6       1       Married   35   51148\n",
            "19         Linda         1       0       Married   43   66140\n",
            "20       Richard         2       1        Single   40   57749\n",
            "21       Barbara         5       0      Divorced   49   13789\n",
            "22           Ian         4       1      Divorced   40   14072\n",
            "23       Lynette         7       0        Single   39       0\n",
            "24         Robyn         6       0       Married   42   17870\n",
            "25         Craig         1       1       Married   47   97541\n",
            "26          Anne         2       0        Single   46       0\n",
            "27         Karen         5       0       Married   36   10511\n",
            "28         Helen         3       0        Single   39   86584\n",
            "29         Diane         6       0       Married   40   75690\n",
            "30       William         1       1       Married   28   23158\n",
            "31       Gregory         2       1       Married   47   65999\n",
            "32         Wayne         5       1       Married   34       0\n",
            "33        Andrew         3       1       Married   28   54500\n",
            "34        Sandra         0       0       Married   50   37260\n",
            "35         Wendy         4       0       Married   42   68987\n",
            "36         Grant         7       1       Married   49   42305\n",
            "37         Janet         6       0       Married   38   65706\n",
            "38         James         1       1        Single   32       0\n",
            "39         Bruce         3       1      Divorced   44   53243\n",
            "40       Heather         6       0       Married   40       0\n",
            "41        Pamela         1       0        Single   49   50071\n",
            "42         Carol         2       0       Married   29   60021\n",
            "43         Brian         5       1       Married   31   43244\n",
            "44        Steven         4       1       Married   50   92834\n",
            "45        Janice         7       0       Married   33   10105\n",
            "46        Philip         6       1        Single   39       0\n",
            "47         Julie         1       0        Single   25   23218\n",
            "48       Suzanne         3       0       Married   47       0\n",
            "49      Lorraine         7       0       Married   31       0\n"
          ]
        }
      ]
    },
    {
      "cell_type": "markdown",
      "source": [
        "**6 no solution of Assignment Part 2**"
      ],
      "metadata": {
        "id": "b9QjuoCK5bxI"
      }
    },
    {
      "cell_type": "code",
      "source": [
        "import pandas as pd\n",
        "from sklearn.cluster import KMeans\n",
        "\n",
        "df = pd.read_csv('/content/Sheet1.csv') #load dataset\n",
        "\n",
        "print(df['Division'].unique()) #verify unique values\n",
        "\n",
        "features = ['Division'] #selecting column"
      ],
      "metadata": {
        "colab": {
          "base_uri": "https://localhost:8080/"
        },
        "id": "gW7IVI_w5qAM",
        "outputId": "02d7c36a-74fa-492e-821c-7a56bbb076b3"
      },
      "execution_count": null,
      "outputs": [
        {
          "output_type": "stream",
          "name": "stdout",
          "text": [
            "['Dhaka' 'Rajshahi' 'Khulna' 'Barishal' 'Mymensingh' 'Sylhet' 'Rangpur'\n",
            " 'Chattogram']\n"
          ]
        }
      ]
    },
    {
      "cell_type": "code",
      "source": [
        "kmeans = KMeans(n_clusters=8)  # number of clusters\n",
        "kmeans.fit(df[features])\n",
        "\n",
        "cluster_labels = kmeans.labels #retrieve cluster labels to data point\n",
        "\n",
        "df['Cluster_Labels'] = cluster_labels #add cluster labels to dataframe"
      ],
      "metadata": {
        "colab": {
          "base_uri": "https://localhost:8080/",
          "height": 394
        },
        "id": "RYToQdfF7tiB",
        "outputId": "d914df4a-8c21-4925-9495-7c75c2f7c1e4"
      },
      "execution_count": null,
      "outputs": [
        {
          "output_type": "error",
          "ename": "ValueError",
          "evalue": "ignored",
          "traceback": [
            "\u001b[0;31m---------------------------------------------------------------------------\u001b[0m",
            "\u001b[0;31mValueError\u001b[0m                                Traceback (most recent call last)",
            "\u001b[0;32m<ipython-input-18-569aa92bc87f>\u001b[0m in \u001b[0;36m<cell line: 2>\u001b[0;34m()\u001b[0m\n\u001b[1;32m      1\u001b[0m \u001b[0mkmeans\u001b[0m \u001b[0;34m=\u001b[0m \u001b[0mKMeans\u001b[0m\u001b[0;34m(\u001b[0m\u001b[0mn_clusters\u001b[0m\u001b[0;34m=\u001b[0m\u001b[0;36m8\u001b[0m\u001b[0;34m)\u001b[0m  \u001b[0;31m# number of clusters\u001b[0m\u001b[0;34m\u001b[0m\u001b[0;34m\u001b[0m\u001b[0m\n\u001b[0;32m----> 2\u001b[0;31m \u001b[0mkmeans\u001b[0m\u001b[0;34m.\u001b[0m\u001b[0mfit\u001b[0m\u001b[0;34m(\u001b[0m\u001b[0mdf\u001b[0m\u001b[0;34m[\u001b[0m\u001b[0mfeatures\u001b[0m\u001b[0;34m]\u001b[0m\u001b[0;34m)\u001b[0m\u001b[0;34m\u001b[0m\u001b[0;34m\u001b[0m\u001b[0m\n\u001b[0m\u001b[1;32m      3\u001b[0m \u001b[0;34m\u001b[0m\u001b[0m\n\u001b[1;32m      4\u001b[0m \u001b[0mcluster_labels\u001b[0m \u001b[0;34m=\u001b[0m \u001b[0mkmeans\u001b[0m\u001b[0;34m.\u001b[0m\u001b[0mlabels\u001b[0m \u001b[0;31m#retrieve cluster labels to data point\u001b[0m\u001b[0;34m\u001b[0m\u001b[0;34m\u001b[0m\u001b[0m\n\u001b[1;32m      5\u001b[0m \u001b[0;34m\u001b[0m\u001b[0m\n",
            "\u001b[0;32m/usr/local/lib/python3.10/dist-packages/sklearn/cluster/_kmeans.py\u001b[0m in \u001b[0;36mfit\u001b[0;34m(self, X, y, sample_weight)\u001b[0m\n\u001b[1;32m   1415\u001b[0m         \u001b[0mself\u001b[0m\u001b[0;34m.\u001b[0m\u001b[0m_validate_params\u001b[0m\u001b[0;34m(\u001b[0m\u001b[0;34m)\u001b[0m\u001b[0;34m\u001b[0m\u001b[0;34m\u001b[0m\u001b[0m\n\u001b[1;32m   1416\u001b[0m \u001b[0;34m\u001b[0m\u001b[0m\n\u001b[0;32m-> 1417\u001b[0;31m         X = self._validate_data(\n\u001b[0m\u001b[1;32m   1418\u001b[0m             \u001b[0mX\u001b[0m\u001b[0;34m,\u001b[0m\u001b[0;34m\u001b[0m\u001b[0;34m\u001b[0m\u001b[0m\n\u001b[1;32m   1419\u001b[0m             \u001b[0maccept_sparse\u001b[0m\u001b[0;34m=\u001b[0m\u001b[0;34m\"csr\"\u001b[0m\u001b[0;34m,\u001b[0m\u001b[0;34m\u001b[0m\u001b[0;34m\u001b[0m\u001b[0m\n",
            "\u001b[0;32m/usr/local/lib/python3.10/dist-packages/sklearn/base.py\u001b[0m in \u001b[0;36m_validate_data\u001b[0;34m(self, X, y, reset, validate_separately, **check_params)\u001b[0m\n\u001b[1;32m    563\u001b[0m             \u001b[0;32mraise\u001b[0m \u001b[0mValueError\u001b[0m\u001b[0;34m(\u001b[0m\u001b[0;34m\"Validation should be done on X, y or both.\"\u001b[0m\u001b[0;34m)\u001b[0m\u001b[0;34m\u001b[0m\u001b[0;34m\u001b[0m\u001b[0m\n\u001b[1;32m    564\u001b[0m         \u001b[0;32melif\u001b[0m \u001b[0;32mnot\u001b[0m \u001b[0mno_val_X\u001b[0m \u001b[0;32mand\u001b[0m \u001b[0mno_val_y\u001b[0m\u001b[0;34m:\u001b[0m\u001b[0;34m\u001b[0m\u001b[0;34m\u001b[0m\u001b[0m\n\u001b[0;32m--> 565\u001b[0;31m             \u001b[0mX\u001b[0m \u001b[0;34m=\u001b[0m \u001b[0mcheck_array\u001b[0m\u001b[0;34m(\u001b[0m\u001b[0mX\u001b[0m\u001b[0;34m,\u001b[0m \u001b[0minput_name\u001b[0m\u001b[0;34m=\u001b[0m\u001b[0;34m\"X\"\u001b[0m\u001b[0;34m,\u001b[0m \u001b[0;34m**\u001b[0m\u001b[0mcheck_params\u001b[0m\u001b[0;34m)\u001b[0m\u001b[0;34m\u001b[0m\u001b[0;34m\u001b[0m\u001b[0m\n\u001b[0m\u001b[1;32m    566\u001b[0m             \u001b[0mout\u001b[0m \u001b[0;34m=\u001b[0m \u001b[0mX\u001b[0m\u001b[0;34m\u001b[0m\u001b[0;34m\u001b[0m\u001b[0m\n\u001b[1;32m    567\u001b[0m         \u001b[0;32melif\u001b[0m \u001b[0mno_val_X\u001b[0m \u001b[0;32mand\u001b[0m \u001b[0;32mnot\u001b[0m \u001b[0mno_val_y\u001b[0m\u001b[0;34m:\u001b[0m\u001b[0;34m\u001b[0m\u001b[0;34m\u001b[0m\u001b[0m\n",
            "\u001b[0;32m/usr/local/lib/python3.10/dist-packages/sklearn/utils/validation.py\u001b[0m in \u001b[0;36mcheck_array\u001b[0;34m(array, accept_sparse, accept_large_sparse, dtype, order, copy, force_all_finite, ensure_2d, allow_nd, ensure_min_samples, ensure_min_features, estimator, input_name)\u001b[0m\n\u001b[1;32m    877\u001b[0m                     \u001b[0marray\u001b[0m \u001b[0;34m=\u001b[0m \u001b[0mxp\u001b[0m\u001b[0;34m.\u001b[0m\u001b[0mastype\u001b[0m\u001b[0;34m(\u001b[0m\u001b[0marray\u001b[0m\u001b[0;34m,\u001b[0m \u001b[0mdtype\u001b[0m\u001b[0;34m,\u001b[0m \u001b[0mcopy\u001b[0m\u001b[0;34m=\u001b[0m\u001b[0;32mFalse\u001b[0m\u001b[0;34m)\u001b[0m\u001b[0;34m\u001b[0m\u001b[0;34m\u001b[0m\u001b[0m\n\u001b[1;32m    878\u001b[0m                 \u001b[0;32melse\u001b[0m\u001b[0;34m:\u001b[0m\u001b[0;34m\u001b[0m\u001b[0;34m\u001b[0m\u001b[0m\n\u001b[0;32m--> 879\u001b[0;31m                     \u001b[0marray\u001b[0m \u001b[0;34m=\u001b[0m \u001b[0m_asarray_with_order\u001b[0m\u001b[0;34m(\u001b[0m\u001b[0marray\u001b[0m\u001b[0;34m,\u001b[0m \u001b[0morder\u001b[0m\u001b[0;34m=\u001b[0m\u001b[0morder\u001b[0m\u001b[0;34m,\u001b[0m \u001b[0mdtype\u001b[0m\u001b[0;34m=\u001b[0m\u001b[0mdtype\u001b[0m\u001b[0;34m,\u001b[0m \u001b[0mxp\u001b[0m\u001b[0;34m=\u001b[0m\u001b[0mxp\u001b[0m\u001b[0;34m)\u001b[0m\u001b[0;34m\u001b[0m\u001b[0;34m\u001b[0m\u001b[0m\n\u001b[0m\u001b[1;32m    880\u001b[0m             \u001b[0;32mexcept\u001b[0m \u001b[0mComplexWarning\u001b[0m \u001b[0;32mas\u001b[0m \u001b[0mcomplex_warning\u001b[0m\u001b[0;34m:\u001b[0m\u001b[0;34m\u001b[0m\u001b[0;34m\u001b[0m\u001b[0m\n\u001b[1;32m    881\u001b[0m                 raise ValueError(\n",
            "\u001b[0;32m/usr/local/lib/python3.10/dist-packages/sklearn/utils/_array_api.py\u001b[0m in \u001b[0;36m_asarray_with_order\u001b[0;34m(array, dtype, order, copy, xp)\u001b[0m\n\u001b[1;32m    183\u001b[0m     \u001b[0;32mif\u001b[0m \u001b[0mxp\u001b[0m\u001b[0;34m.\u001b[0m\u001b[0m__name__\u001b[0m \u001b[0;32min\u001b[0m \u001b[0;34m{\u001b[0m\u001b[0;34m\"numpy\"\u001b[0m\u001b[0;34m,\u001b[0m \u001b[0;34m\"numpy.array_api\"\u001b[0m\u001b[0;34m}\u001b[0m\u001b[0;34m:\u001b[0m\u001b[0;34m\u001b[0m\u001b[0;34m\u001b[0m\u001b[0m\n\u001b[1;32m    184\u001b[0m         \u001b[0;31m# Use NumPy API to support order\u001b[0m\u001b[0;34m\u001b[0m\u001b[0;34m\u001b[0m\u001b[0m\n\u001b[0;32m--> 185\u001b[0;31m         \u001b[0marray\u001b[0m \u001b[0;34m=\u001b[0m \u001b[0mnumpy\u001b[0m\u001b[0;34m.\u001b[0m\u001b[0masarray\u001b[0m\u001b[0;34m(\u001b[0m\u001b[0marray\u001b[0m\u001b[0;34m,\u001b[0m \u001b[0morder\u001b[0m\u001b[0;34m=\u001b[0m\u001b[0morder\u001b[0m\u001b[0;34m,\u001b[0m \u001b[0mdtype\u001b[0m\u001b[0;34m=\u001b[0m\u001b[0mdtype\u001b[0m\u001b[0;34m)\u001b[0m\u001b[0;34m\u001b[0m\u001b[0;34m\u001b[0m\u001b[0m\n\u001b[0m\u001b[1;32m    186\u001b[0m         \u001b[0;32mreturn\u001b[0m \u001b[0mxp\u001b[0m\u001b[0;34m.\u001b[0m\u001b[0masarray\u001b[0m\u001b[0;34m(\u001b[0m\u001b[0marray\u001b[0m\u001b[0;34m,\u001b[0m \u001b[0mcopy\u001b[0m\u001b[0;34m=\u001b[0m\u001b[0mcopy\u001b[0m\u001b[0;34m)\u001b[0m\u001b[0;34m\u001b[0m\u001b[0;34m\u001b[0m\u001b[0m\n\u001b[1;32m    187\u001b[0m     \u001b[0;32melse\u001b[0m\u001b[0;34m:\u001b[0m\u001b[0;34m\u001b[0m\u001b[0;34m\u001b[0m\u001b[0m\n",
            "\u001b[0;32m/usr/local/lib/python3.10/dist-packages/pandas/core/generic.py\u001b[0m in \u001b[0;36m__array__\u001b[0;34m(self, dtype)\u001b[0m\n\u001b[1;32m   2068\u001b[0m \u001b[0;34m\u001b[0m\u001b[0m\n\u001b[1;32m   2069\u001b[0m     \u001b[0;32mdef\u001b[0m \u001b[0m__array__\u001b[0m\u001b[0;34m(\u001b[0m\u001b[0mself\u001b[0m\u001b[0;34m,\u001b[0m \u001b[0mdtype\u001b[0m\u001b[0;34m:\u001b[0m \u001b[0mnpt\u001b[0m\u001b[0;34m.\u001b[0m\u001b[0mDTypeLike\u001b[0m \u001b[0;34m|\u001b[0m \u001b[0;32mNone\u001b[0m \u001b[0;34m=\u001b[0m \u001b[0;32mNone\u001b[0m\u001b[0;34m)\u001b[0m \u001b[0;34m->\u001b[0m \u001b[0mnp\u001b[0m\u001b[0;34m.\u001b[0m\u001b[0mndarray\u001b[0m\u001b[0;34m:\u001b[0m\u001b[0;34m\u001b[0m\u001b[0;34m\u001b[0m\u001b[0m\n\u001b[0;32m-> 2070\u001b[0;31m         \u001b[0;32mreturn\u001b[0m \u001b[0mnp\u001b[0m\u001b[0;34m.\u001b[0m\u001b[0masarray\u001b[0m\u001b[0;34m(\u001b[0m\u001b[0mself\u001b[0m\u001b[0;34m.\u001b[0m\u001b[0m_values\u001b[0m\u001b[0;34m,\u001b[0m \u001b[0mdtype\u001b[0m\u001b[0;34m=\u001b[0m\u001b[0mdtype\u001b[0m\u001b[0;34m)\u001b[0m\u001b[0;34m\u001b[0m\u001b[0;34m\u001b[0m\u001b[0m\n\u001b[0m\u001b[1;32m   2071\u001b[0m \u001b[0;34m\u001b[0m\u001b[0m\n\u001b[1;32m   2072\u001b[0m     def __array_wrap__(\n",
            "\u001b[0;31mValueError\u001b[0m: could not convert string to float: 'Dhaka'"
          ]
        }
      ]
    },
    {
      "cell_type": "markdown",
      "source": [
        "**7 no solution of Assignment Part 2**"
      ],
      "metadata": {
        "id": "KPskFb7R5rpi"
      }
    },
    {
      "cell_type": "code",
      "source": [
        "files.download('/content/Sheet1.csv') #for download"
      ],
      "metadata": {
        "colab": {
          "base_uri": "https://localhost:8080/",
          "height": 17
        },
        "id": "kMoLU1L05vNO",
        "outputId": "b7f6191a-f296-452f-b501-743907409287"
      },
      "execution_count": null,
      "outputs": [
        {
          "output_type": "display_data",
          "data": {
            "text/plain": [
              "<IPython.core.display.Javascript object>"
            ],
            "application/javascript": [
              "\n",
              "    async function download(id, filename, size) {\n",
              "      if (!google.colab.kernel.accessAllowed) {\n",
              "        return;\n",
              "      }\n",
              "      const div = document.createElement('div');\n",
              "      const label = document.createElement('label');\n",
              "      label.textContent = `Downloading \"${filename}\": `;\n",
              "      div.appendChild(label);\n",
              "      const progress = document.createElement('progress');\n",
              "      progress.max = size;\n",
              "      div.appendChild(progress);\n",
              "      document.body.appendChild(div);\n",
              "\n",
              "      const buffers = [];\n",
              "      let downloaded = 0;\n",
              "\n",
              "      const channel = await google.colab.kernel.comms.open(id);\n",
              "      // Send a message to notify the kernel that we're ready.\n",
              "      channel.send({})\n",
              "\n",
              "      for await (const message of channel.messages) {\n",
              "        // Send a message to notify the kernel that we're ready.\n",
              "        channel.send({})\n",
              "        if (message.buffers) {\n",
              "          for (const buffer of message.buffers) {\n",
              "            buffers.push(buffer);\n",
              "            downloaded += buffer.byteLength;\n",
              "            progress.value = downloaded;\n",
              "          }\n",
              "        }\n",
              "      }\n",
              "      const blob = new Blob(buffers, {type: 'application/binary'});\n",
              "      const a = document.createElement('a');\n",
              "      a.href = window.URL.createObjectURL(blob);\n",
              "      a.download = filename;\n",
              "      div.appendChild(a);\n",
              "      a.click();\n",
              "      div.remove();\n",
              "    }\n",
              "  "
            ]
          },
          "metadata": {}
        },
        {
          "output_type": "display_data",
          "data": {
            "text/plain": [
              "<IPython.core.display.Javascript object>"
            ],
            "application/javascript": [
              "download(\"download_9b5ac27f-e9f8-450f-9cff-1bf3c4162c86\", \"Sheet1.csv\", 2117)"
            ]
          },
          "metadata": {}
        }
      ]
    }
  ]
}